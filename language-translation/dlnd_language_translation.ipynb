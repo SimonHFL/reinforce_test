{
 "cells": [
  {
   "cell_type": "markdown",
   "metadata": {
    "collapsed": true,
    "deletable": true,
    "editable": true
   },
   "source": [
    "# Language Translation\n",
    "In this project, you’re going to take a peek into the realm of neural network machine translation.  You’ll be training a sequence to sequence model on a dataset of English and French sentences that can translate new sentences from English to French.\n",
    "## Get the Data\n",
    "Since translating the whole language of English to French will take lots of time to train, we have provided you with a small portion of the English corpus."
   ]
  },
  {
   "cell_type": "code",
   "execution_count": 1,
   "metadata": {
    "collapsed": false,
    "deletable": true,
    "editable": true
   },
   "outputs": [],
   "source": [
    "\"\"\"\n",
    "DON'T MODIFY ANYTHING IN THIS CELL\n",
    "\"\"\"\n",
    "import helper\n",
    "import problem_unittests as tests\n",
    "\n",
    "source_path = 'data/small_vocab_en'\n",
    "target_path = 'data/small_vocab_fr'\n",
    "source_text = helper.load_data(source_path)\n",
    "target_text = helper.load_data(target_path)"
   ]
  },
  {
   "cell_type": "markdown",
   "metadata": {
    "deletable": true,
    "editable": true
   },
   "source": [
    "## Explore the Data\n",
    "Play around with view_sentence_range to view different parts of the data."
   ]
  },
  {
   "cell_type": "code",
   "execution_count": 2,
   "metadata": {
    "collapsed": false,
    "deletable": true,
    "editable": true
   },
   "outputs": [
    {
     "name": "stdout",
     "output_type": "stream",
     "text": [
      "Dataset Stats\n",
      "Roughly the number of unique words: 227\n",
      "Number of sentences: 137861\n",
      "Average number of words in a sentence: 13.225277634719028\n",
      "\n",
      "English sentences 0 to 10:\n",
      "new jersey is sometimes quiet during autumn , and it is snowy in april .\n",
      "the united states is usually chilly during july , and it is usually freezing in november .\n",
      "california is usually quiet during march , and it is usually hot in june .\n",
      "the united states is sometimes mild during june , and it is cold in september .\n",
      "your least liked fruit is the grape , but my least liked is the apple .\n",
      "his favorite fruit is the orange , but my favorite is the grape .\n",
      "paris is relaxing during december , but it is usually chilly in july .\n",
      "new jersey is busy during spring , and it is never hot in march .\n",
      "our least liked fruit is the lemon , but my least liked is the grape .\n",
      "the united states is sometimes busy during january , and it is sometimes warm in november .\n",
      "\n",
      "French sentences 0 to 10:\n",
      "new jersey est parfois calme pendant l' automne , et il est neigeux en avril .\n",
      "les états-unis est généralement froid en juillet , et il gèle habituellement en novembre .\n",
      "california est généralement calme en mars , et il est généralement chaud en juin .\n",
      "les états-unis est parfois légère en juin , et il fait froid en septembre .\n",
      "votre moins aimé fruit est le raisin , mais mon moins aimé est la pomme .\n",
      "son fruit préféré est l'orange , mais mon préféré est le raisin .\n",
      "paris est relaxant en décembre , mais il est généralement froid en juillet .\n",
      "new jersey est occupé au printemps , et il est jamais chaude en mars .\n",
      "notre fruit est moins aimé le citron , mais mon moins aimé est le raisin .\n",
      "les états-unis est parfois occupé en janvier , et il est parfois chaud en novembre .\n"
     ]
    }
   ],
   "source": [
    "view_sentence_range = (0, 10)\n",
    "\n",
    "\"\"\"\n",
    "DON'T MODIFY ANYTHING IN THIS CELL\n",
    "\"\"\"\n",
    "import numpy as np\n",
    "\n",
    "print('Dataset Stats')\n",
    "print('Roughly the number of unique words: {}'.format(len({word: None for word in source_text.split()})))\n",
    "\n",
    "sentences = source_text.split('\\n')\n",
    "word_counts = [len(sentence.split()) for sentence in sentences]\n",
    "print('Number of sentences: {}'.format(len(sentences)))\n",
    "print('Average number of words in a sentence: {}'.format(np.average(word_counts)))\n",
    "\n",
    "print()\n",
    "print('English sentences {} to {}:'.format(*view_sentence_range))\n",
    "print('\\n'.join(source_text.split('\\n')[view_sentence_range[0]:view_sentence_range[1]]))\n",
    "print()\n",
    "print('French sentences {} to {}:'.format(*view_sentence_range))\n",
    "print('\\n'.join(target_text.split('\\n')[view_sentence_range[0]:view_sentence_range[1]]))"
   ]
  },
  {
   "cell_type": "markdown",
   "metadata": {
    "deletable": true,
    "editable": true
   },
   "source": [
    "## Implement Preprocessing Function\n",
    "### Text to Word Ids\n",
    "As you did with other RNNs, you must turn the text into a number so the computer can understand it. In the function `text_to_ids()`, you'll turn `source_text` and `target_text` from words to ids.  However, you need to add the `<EOS>` word id at the end of each sentence from `target_text`.  This will help the neural network predict when the sentence should end.\n",
    "\n",
    "You can get the `<EOS>` word id by doing:\n",
    "```python\n",
    "target_vocab_to_int['<EOS>']\n",
    "```\n",
    "You can get other word ids using `source_vocab_to_int` and `target_vocab_to_int`."
   ]
  },
  {
   "cell_type": "code",
   "execution_count": 3,
   "metadata": {
    "collapsed": false,
    "deletable": true,
    "editable": true
   },
   "outputs": [
    {
     "data": {
      "text/plain": [
       "\"\\nDON'T MODIFY ANYTHING IN THIS CELL THAT IS BELOW THIS LINE\\n\""
      ]
     },
     "execution_count": 3,
     "metadata": {},
     "output_type": "execute_result"
    }
   ],
   "source": [
    "def text_to_ids(source_text, target_text, source_vocab_to_int, target_vocab_to_int):\n",
    "    \"\"\"\n",
    "    Convert source and target text to proper word ids\n",
    "    :param source_text: String that contains all the source text.\n",
    "    :param target_text: String that contains all the target text.\n",
    "    :param source_vocab_to_int: Dictionary to go from the source words to an id\n",
    "    :param target_vocab_to_int: Dictionary to go from the target words to an id\n",
    "    :return: A tuple of lists (source_id_text, target_id_text)\n",
    "    \"\"\"\n",
    "    # TODO: Implement Function\n",
    "\n",
    "    source_sentences = source_text.split(\"\\n\")\n",
    "    source_sentences = [sentence.split(\" \") for sentence in source_sentences]\n",
    "    # remove '' to avoid errors\n",
    "    source_sentences = [[word for word in sentence if word != ''] for sentence in source_sentences]\n",
    "    source_id_text = [ [ source_vocab_to_int[word] for word in sentence] for sentence in source_sentences]\n",
    "    \n",
    "    target_sentences = target_text.split(\"\\n\")\n",
    "    target_sentences = [sentence.split(\" \") for sentence in target_sentences]\n",
    "    # remove '' to avoid errors\n",
    "    target_sentences = [[word for word in sentence if word != ''] for sentence in target_sentences]\n",
    "    target_id_text = [ [ target_vocab_to_int[word] for word in sentence] for sentence in target_sentences]\n",
    "    target_id_text = [ sentence + [target_vocab_to_int['<EOS>']] for sentence in target_id_text]    \n",
    "    #target_id_text = [ [target_vocab_to_int['<GO>']] + sentence + [target_vocab_to_int['<EOS>']] for sentence in target_id_text]    \n",
    "    #target_id_text = [ [target_vocab_to_int['<GO>']] + sentence for sentence in target_id_text]    \n",
    "\n",
    "    return (source_id_text, target_id_text)\n",
    "\n",
    "\"\"\"\n",
    "DON'T MODIFY ANYTHING IN THIS CELL THAT IS BELOW THIS LINE\n",
    "\"\"\"\n",
    "#tests.test_text_to_ids(text_to_ids)"
   ]
  },
  {
   "cell_type": "markdown",
   "metadata": {
    "deletable": true,
    "editable": true
   },
   "source": [
    "### Preprocess all the data and save it\n",
    "Running the code cell below will preprocess all the data and save it to file."
   ]
  },
  {
   "cell_type": "code",
   "execution_count": 4,
   "metadata": {
    "collapsed": false,
    "deletable": true,
    "editable": true
   },
   "outputs": [],
   "source": [
    "\"\"\"\n",
    "DON'T MODIFY ANYTHING IN THIS CELL\n",
    "\"\"\"\n",
    "helper.preprocess_and_save_data(source_path, target_path, text_to_ids)"
   ]
  },
  {
   "cell_type": "markdown",
   "metadata": {
    "deletable": true,
    "editable": true
   },
   "source": [
    "# Check Point\n",
    "This is your first checkpoint. If you ever decide to come back to this notebook or have to restart the notebook, you can start from here. The preprocessed data has been saved to disk."
   ]
  },
  {
   "cell_type": "code",
   "execution_count": 5,
   "metadata": {
    "collapsed": false,
    "deletable": true,
    "editable": true
   },
   "outputs": [],
   "source": [
    "\"\"\"\n",
    "DON'T MODIFY ANYTHING IN THIS CELL\n",
    "\"\"\"\n",
    "import numpy as np\n",
    "import helper\n",
    "\n",
    "(source_int_text, target_int_text), (source_vocab_to_int, target_vocab_to_int), _ = helper.load_preprocess()"
   ]
  },
  {
   "cell_type": "markdown",
   "metadata": {
    "deletable": true,
    "editable": true
   },
   "source": [
    "### Check the Version of TensorFlow and Access to GPU\n",
    "This will check to make sure you have the correct version of TensorFlow and access to a GPU"
   ]
  },
  {
   "cell_type": "code",
   "execution_count": 6,
   "metadata": {
    "collapsed": false,
    "deletable": true,
    "editable": true
   },
   "outputs": [
    {
     "name": "stdout",
     "output_type": "stream",
     "text": [
      "TensorFlow Version: 1.0.1\n"
     ]
    },
    {
     "name": "stderr",
     "output_type": "stream",
     "text": [
      "/Users/simonflachs/anaconda/envs/dlnd-tf-lab/lib/python3.5/site-packages/ipykernel/__main__.py:14: UserWarning: No GPU found. Please use a GPU to train your neural network.\n"
     ]
    }
   ],
   "source": [
    "\"\"\"\n",
    "DON'T MODIFY ANYTHING IN THIS CELL\n",
    "\"\"\"\n",
    "from distutils.version import LooseVersion\n",
    "import warnings\n",
    "import tensorflow as tf\n",
    "\n",
    "# Check TensorFlow Version\n",
    "assert LooseVersion(tf.__version__) in [LooseVersion('1.0.0'), LooseVersion('1.0.1')], 'This project requires TensorFlow version 1.0  You are using {}'.format(tf.__version__)\n",
    "print('TensorFlow Version: {}'.format(tf.__version__))\n",
    "\n",
    "# Check for a GPU\n",
    "if not tf.test.gpu_device_name():\n",
    "    warnings.warn('No GPU found. Please use a GPU to train your neural network.')\n",
    "else:\n",
    "    print('Default GPU Device: {}'.format(tf.test.gpu_device_name()))"
   ]
  },
  {
   "cell_type": "markdown",
   "metadata": {
    "deletable": true,
    "editable": true
   },
   "source": [
    "## Build the Neural Network\n",
    "You'll build the components necessary to build a Sequence-to-Sequence model by implementing the following functions below:\n",
    "- `model_inputs`\n",
    "- `process_decoding_input`\n",
    "- `encoding_layer`\n",
    "- `decoding_layer_train`\n",
    "- `decoding_layer_infer`\n",
    "- `decoding_layer`\n",
    "- `seq2seq_model`\n",
    "\n",
    "### Input\n",
    "Implement the `model_inputs()` function to create TF Placeholders for the Neural Network. It should create the following placeholders:\n",
    "\n",
    "- Input text placeholder named \"input\" using the TF Placeholder name parameter with rank 2.\n",
    "- Targets placeholder with rank 2.\n",
    "- Learning rate placeholder with rank 0.\n",
    "- Keep probability placeholder named \"keep_prob\" using the TF Placeholder name parameter with rank 0.\n",
    "\n",
    "Return the placeholders in the following the tuple (Input, Targets, Learing Rate, Keep Probability)"
   ]
  },
  {
   "cell_type": "code",
   "execution_count": 7,
   "metadata": {
    "collapsed": false,
    "deletable": true,
    "editable": true
   },
   "outputs": [
    {
     "data": {
      "text/plain": [
       "\"\\nDON'T MODIFY ANYTHING IN THIS CELL THAT IS BELOW THIS LINE\\n\""
      ]
     },
     "execution_count": 7,
     "metadata": {},
     "output_type": "execute_result"
    }
   ],
   "source": [
    "def model_inputs(batch_size):\n",
    "    \"\"\"\n",
    "    Create TF Placeholders for input, targets, and learning rate.\n",
    "    :return: Tuple (input, targets, learning rate, keep probability)\n",
    "    \"\"\"\n",
    "    input = tf.placeholder(tf.int32, shape=(batch_size,None), name='input')\n",
    "    targets = tf.placeholder(tf.int32, shape=(batch_size,None), name='targets')\n",
    "    \n",
    "    learning_rate = tf.placeholder(tf.float32, shape=(), name='learning_rate')\n",
    "    keep_prob = tf.placeholder(tf.float32, shape=(), name='keep_prob')\n",
    "    # TODO: Implement Function\n",
    "    return input, targets, learning_rate, keep_prob\n",
    "\n",
    "\"\"\"\n",
    "DON'T MODIFY ANYTHING IN THIS CELL THAT IS BELOW THIS LINE\n",
    "\"\"\"\n",
    "#tests.test_model_inputs(model_inputs)"
   ]
  },
  {
   "cell_type": "markdown",
   "metadata": {
    "deletable": true,
    "editable": true
   },
   "source": [
    "### Process Decoding Input\n",
    "Implement `process_decoding_input` using TensorFlow to remove the last word id from each batch in `target_data` and concat the GO ID to the beginning of each batch."
   ]
  },
  {
   "cell_type": "code",
   "execution_count": 8,
   "metadata": {
    "collapsed": false,
    "deletable": true,
    "editable": true
   },
   "outputs": [
    {
     "data": {
      "text/plain": [
       "\"\\nDON'T MODIFY ANYTHING IN THIS CELL THAT IS BELOW THIS LINE\\n\""
      ]
     },
     "execution_count": 8,
     "metadata": {},
     "output_type": "execute_result"
    }
   ],
   "source": [
    "def process_decoding_input(target_data, target_vocab_to_int, batch_size):\n",
    "    \"\"\"\n",
    "    Preprocess target data for decoding\n",
    "    :param target_data: Target Placeholder\n",
    "    :param target_vocab_to_int: Dictionary to go from the target words to an id\n",
    "    :param batch_size: Batch Size\n",
    "    :return: Preprocessed target data\n",
    "    \"\"\"\n",
    "\n",
    "    # remove the last word id from each batch\n",
    "    target_data = tf.strided_slice(target_data, [0, 0], [batch_size, -1], [1, 1])\n",
    "\n",
    "    # concat go id to beginning of each batch\n",
    "    GO_id = target_vocab_to_int['<GO>']    \n",
    "    GO_id_col = tf.fill([batch_size, 1], GO_id)\n",
    "    target_data = tf.concat([GO_id_col, target_data], axis=1)\n",
    "        \n",
    "    return target_data\n",
    "\n",
    "\"\"\"\n",
    "DON'T MODIFY ANYTHING IN THIS CELL THAT IS BELOW THIS LINE\n",
    "\"\"\"\n",
    "#tests.test_process_decoding_input(process_decoding_input)"
   ]
  },
  {
   "cell_type": "markdown",
   "metadata": {
    "deletable": true,
    "editable": true
   },
   "source": [
    "### Encoding\n",
    "Implement `encoding_layer()` to create a Encoder RNN layer using [`tf.nn.dynamic_rnn()`](https://www.tensorflow.org/api_docs/python/tf/nn/dynamic_rnn)."
   ]
  },
  {
   "cell_type": "code",
   "execution_count": 9,
   "metadata": {
    "collapsed": false,
    "deletable": true,
    "editable": true
   },
   "outputs": [
    {
     "name": "stdout",
     "output_type": "stream",
     "text": [
      "Tests Passed\n"
     ]
    }
   ],
   "source": [
    "def encoding_layer(rnn_inputs, rnn_size, num_layers, keep_prob):\n",
    "    \"\"\"\n",
    "    Create encoding layer\n",
    "    :param rnn_inputs: Inputs for the RNN\n",
    "    :param rnn_size: RNN Size\n",
    "    :param num_layers: Number of layers\n",
    "    :param keep_prob: Dropout keep probability\n",
    "    :return: RNN state\n",
    "    \"\"\"\n",
    "    lstm = tf.contrib.rnn.BasicLSTMCell(num_units=rnn_size)\n",
    "    \n",
    "    lstm = tf.contrib.rnn.DropoutWrapper(lstm, keep_prob)\n",
    "    \n",
    "    cell = tf.contrib.rnn.MultiRNNCell([lstm] * num_layers)\n",
    "    \n",
    "    outputs, state = tf.nn.dynamic_rnn(cell, rnn_inputs, dtype=tf.float32)\n",
    "    \n",
    "    return state\n",
    "\n",
    "\"\"\"\n",
    "DON'T MODIFY ANYTHING IN THIS CELL THAT IS BELOW THIS LINE\n",
    "\"\"\"\n",
    "tests.test_encoding_layer(encoding_layer)"
   ]
  },
  {
   "cell_type": "markdown",
   "metadata": {
    "deletable": true,
    "editable": true
   },
   "source": [
    "### Decoding - Training\n",
    "Create training logits using [`tf.contrib.seq2seq.simple_decoder_fn_train()`](https://www.tensorflow.org/versions/r1.0/api_docs/python/tf/contrib/seq2seq/simple_decoder_fn_train) and [`tf.contrib.seq2seq.dynamic_rnn_decoder()`](https://www.tensorflow.org/versions/r1.0/api_docs/python/tf/contrib/seq2seq/dynamic_rnn_decoder).  Apply the `output_fn` to the [`tf.contrib.seq2seq.dynamic_rnn_decoder()`](https://www.tensorflow.org/versions/r1.0/api_docs/python/tf/contrib/seq2seq/dynamic_rnn_decoder) outputs."
   ]
  },
  {
   "cell_type": "code",
   "execution_count": 10,
   "metadata": {
    "collapsed": false,
    "deletable": true,
    "editable": true
   },
   "outputs": [
    {
     "data": {
      "text/plain": [
       "\"\\nDON'T MODIFY ANYTHING IN THIS CELL THAT IS BELOW THIS LINE\\n\""
      ]
     },
     "execution_count": 10,
     "metadata": {},
     "output_type": "execute_result"
    }
   ],
   "source": [
    "def decoding_layer_train(encoder_state, dec_cell, dec_embed_input, sequence_length, decoding_scope,\n",
    "                         output_fn, keep_prob):\n",
    "    \"\"\"\n",
    "    Create a decoding layer for training\n",
    "    :param encoder_state: Encoder State\n",
    "    :param dec_cell: Decoder RNN Cell\n",
    "    :param dec_embed_input: Decoder embedded input\n",
    "    :param sequence_length: Sequence Length\n",
    "    :param decoding_scope: TenorFlow Variable Scope for decoding\n",
    "    :param output_fn: Function to apply the output layer\n",
    "    :param keep_prob: Dropout keep probability\n",
    "    :return: Train Logits\n",
    "    \"\"\" \n",
    "    \n",
    "    decoder_fn_train = tf.contrib.seq2seq.simple_decoder_fn_train(encoder_state)\n",
    "     \n",
    "    dec_cell = tf.contrib.rnn.DropoutWrapper(dec_cell, keep_prob)\n",
    "    \n",
    "    outputs, final_state, final_context_state = tf.contrib.seq2seq.dynamic_rnn_decoder(\n",
    "        dec_cell, \n",
    "        decoder_fn_train,\n",
    "        inputs = dec_embed_input,\n",
    "        sequence_length=sequence_length,\n",
    "        scope=decoding_scope\n",
    "        )\n",
    "\n",
    "    # TODO: Implement Function\n",
    "    return output_fn(outputs), final_state#final_context_state#final_state\n",
    "\n",
    "\n",
    "\"\"\"\n",
    "DON'T MODIFY ANYTHING IN THIS CELL THAT IS BELOW THIS LINE\n",
    "\"\"\"\n",
    "#tests.test_decoding_layer_train(decoding_layer_train)"
   ]
  },
  {
   "cell_type": "markdown",
   "metadata": {
    "deletable": true,
    "editable": true
   },
   "source": [
    "### Decoding - Inference\n",
    "Create inference logits using [`tf.contrib.seq2seq.simple_decoder_fn_inference()`](https://www.tensorflow.org/versions/r1.0/api_docs/python/tf/contrib/seq2seq/simple_decoder_fn_inference) and [`tf.contrib.seq2seq.dynamic_rnn_decoder()`](https://www.tensorflow.org/versions/r1.0/api_docs/python/tf/contrib/seq2seq/dynamic_rnn_decoder). "
   ]
  },
  {
   "cell_type": "code",
   "execution_count": 11,
   "metadata": {
    "collapsed": false,
    "deletable": true,
    "editable": true
   },
   "outputs": [
    {
     "data": {
      "text/plain": [
       "\"\\nDON'T MODIFY ANYTHING IN THIS CELL THAT IS BELOW THIS LINE\\n\""
      ]
     },
     "execution_count": 11,
     "metadata": {},
     "output_type": "execute_result"
    }
   ],
   "source": [
    "def decoding_layer_infer(encoder_state, dec_cell, dec_embeddings, start_of_sequence_id, end_of_sequence_id,\n",
    "                         maximum_length, vocab_size, decoding_scope, output_fn, keep_prob):\n",
    "    \"\"\"\n",
    "    Create a decoding layer for inference\n",
    "    :param encoder_state: Encoder state\n",
    "    :param dec_cell: Decoder RNN Cell\n",
    "    :param dec_embeddings: Decoder embeddings\n",
    "    :param start_of_sequence_id: GO ID\n",
    "    :param end_of_sequence_id: EOS Id\n",
    "    :param maximum_length: The maximum allowed time steps to decode\n",
    "    :param vocab_size: Size of vocabulary\n",
    "    :param decoding_scope: TensorFlow Variable Scope for decoding\n",
    "    :param output_fn: Function to apply the output layer\n",
    "    :param keep_prob: Dropout keep probability\n",
    "    :return: Inference Logits\n",
    "    \"\"\"\n",
    "    \"\"\"\n",
    "    infer_fn = tf.contrib.seq2seq.simple_decoder_fn_inference(output_fn, encoder_state,\n",
    "    dec_embeddings, start_of_sequence_id, end_of_sequence_id, maximum_length, vocab_size)\n",
    "    drop = tf.contrib.rnn.DropoutWrapper(dec_cell, keep_prob)\n",
    "    outputs, state, context = tf.contrib.seq2seq.dynamic_rnn_decoder(drop, infer_fn,\n",
    "        sequence_length = maximum_length, scope = decoding_scope)\n",
    "    inference_logits =  outputs\n",
    "    return inference_logits\n",
    "    \"\"\"\n",
    "    \n",
    "    decoder_fn_inference = tf.contrib.seq2seq.simple_decoder_fn_inference(\n",
    "        output_fn,\n",
    "        encoder_state,\n",
    "        dec_embeddings,\n",
    "        start_of_sequence_id,\n",
    "        end_of_sequence_id,\n",
    "        maximum_length,\n",
    "        vocab_size)\n",
    "\n",
    "    \n",
    "    dec_cell = tf.contrib.rnn.DropoutWrapper(dec_cell, keep_prob)\n",
    "    \n",
    "    outputs, final_state, final_context_state = tf.contrib.seq2seq.dynamic_rnn_decoder(\n",
    "        dec_cell,\n",
    "        decoder_fn_inference,\n",
    "        sequence_length=maximum_length,\n",
    "        scope=decoding_scope)\n",
    "    \n",
    "    # TODO: should i apply output_fn?\n",
    "    return outputs, final_state\n",
    "\n",
    "\n",
    "\"\"\"\n",
    "DON'T MODIFY ANYTHING IN THIS CELL THAT IS BELOW THIS LINE\n",
    "\"\"\"\n",
    "#tests.test_decoding_layer_infer(decoding_layer_infer)"
   ]
  },
  {
   "cell_type": "markdown",
   "metadata": {
    "deletable": true,
    "editable": true
   },
   "source": [
    "### Build the Decoding Layer\n",
    "Implement `decoding_layer()` to create a Decoder RNN layer.\n",
    "\n",
    "- Create RNN cell for decoding using `rnn_size` and `num_layers`.\n",
    "- Create the output fuction using [`lambda`](https://docs.python.org/3/tutorial/controlflow.html#lambda-expressions) to transform it's input, logits, to class logits.\n",
    "- Use the your `decoding_layer_train(encoder_state, dec_cell, dec_embed_input, sequence_length, decoding_scope, output_fn, keep_prob)` function to get the training logits.\n",
    "- Use your `decoding_layer_infer(encoder_state, dec_cell, dec_embeddings, start_of_sequence_id, end_of_sequence_id, maximum_length, vocab_size, decoding_scope, output_fn, keep_prob)` function to get the inference logits.\n",
    "\n",
    "Note: You'll need to use [tf.variable_scope](https://www.tensorflow.org/api_docs/python/tf/variable_scope) to share variables between training and inference."
   ]
  },
  {
   "cell_type": "code",
   "execution_count": 12,
   "metadata": {
    "collapsed": false,
    "deletable": true,
    "editable": true
   },
   "outputs": [
    {
     "data": {
      "text/plain": [
       "\"\\nDON'T MODIFY ANYTHING IN THIS CELL THAT IS BELOW THIS LINE\\n\""
      ]
     },
     "execution_count": 12,
     "metadata": {},
     "output_type": "execute_result"
    }
   ],
   "source": [
    "def sample(encoder_state, dec_cell, dec_embed_input, sequence_length, decoding_scope, output_fn, keep_prob, dec_embeddings, batch_size):\n",
    "    \n",
    "\n",
    "    sequence_length= tf.ones(shape=(batch_size), dtype=tf.int32)\n",
    "    max_output_length = 10\n",
    "    \n",
    "    # first input\n",
    "    dec_input = tf.constant([[source_vocab_to_int['<GO>']]])\n",
    "    dec_embed_input = tf.nn.embedding_lookup(dec_embeddings, dec_input)\n",
    "    curr_input = tf.tile(dec_embed_input, [batch_size,1,1]) # replicate input to batch size\n",
    "\n",
    "    # first state\n",
    "    curr_state = encoder_state\n",
    "    \n",
    "    probs = []\n",
    "    outputs = []\n",
    "\n",
    "    for i in range(max_output_length):\n",
    "        logits, curr_state = decoding_layer_train(curr_state, dec_cell, curr_input, sequence_length, decoding_scope, output_fn, keep_prob)\n",
    "\n",
    "        # pick output from logits\n",
    "        dim = tf.reduce_prod(tf.shape(logits)[:2]) # remove max_len axis (2nd. axis), since it's 1\n",
    "        logits_reshaped = tf.reshape(logits, [dim,-1])  \n",
    "        \n",
    "        output_ids = tf.multinomial(logits_reshaped, 1)\n",
    "        output_ids = tf.cast(output_ids, tf.int32)\n",
    "        \n",
    "        # get prob of output\n",
    "        softmax = tf.nn.log_softmax(logits_reshaped)  \n",
    "        softmax_idxs = tf.range(tf.shape(softmax)[0])\n",
    "        softmax_idxs = tf.expand_dims(softmax_idxs, 1) # match output_ids dimesions\n",
    "        gather_idxs = tf.concat(( softmax_idxs, output_ids), axis=1)\n",
    "        prob = tf.gather_nd(softmax, gather_idxs) \n",
    "     \n",
    "        probs.append(prob)\n",
    "        \n",
    "        # update input\n",
    "        curr_input = tf.nn.embedding_lookup(dec_embeddings, output_ids)\n",
    "\n",
    "        outputs.append(tf.squeeze(output_ids))\n",
    "        \n",
    "    outputs = tf.stack(outputs, axis=1)\n",
    "    probs = tf.stack(probs, axis=1)\n",
    "\n",
    "    return outputs, probs\n",
    "\n",
    "def decoding_layer(dec_embed_input, dec_embeddings, encoder_state, vocab_size, sequence_length, rnn_size,\n",
    "                   num_layers, target_vocab_to_int, keep_prob, batch_size):\n",
    "    \"\"\"\n",
    "    Create decoding layer\n",
    "    :param dec_embed_input: Decoder embedded input\n",
    "    :param dec_embeddings: Decoder embeddings\n",
    "    :param encoder_state: The encoded state\n",
    "    :param vocab_size: Size of vocabulary\n",
    "    :param sequence_length: Sequence Length\n",
    "    :param rnn_size: RNN Size\n",
    "    :param num_layers: Number of layers\n",
    "    :param target_vocab_to_int: Dictionary to go from the target words to an id\n",
    "    :param keep_prob: Dropout keep probability\n",
    "    :return: Tuple of (Training Logits, Inference Logits)\n",
    "    \"\"\"\n",
    "    # TODO: Implement Function\n",
    "    \n",
    "    start_of_sequence_id =  target_vocab_to_int['<GO>']\n",
    "    end_of_sequence_id = target_vocab_to_int['<EOS>']\n",
    "    \n",
    "    lstm = tf.contrib.rnn.BasicLSTMCell(num_units=rnn_size)\n",
    "    lstm = tf.contrib.rnn.DropoutWrapper(lstm, keep_prob)\n",
    "    dec_cell = tf.contrib.rnn.MultiRNNCell([lstm] * num_layers)\n",
    "    \n",
    "    output_fn = lambda x: tf.contrib.layers.fully_connected(x, vocab_size, None, scope=decoding_scope)\n",
    "    \n",
    "    with tf.variable_scope('decoding') as decoding_scope:\n",
    "        training_logits, training_final_state = decoding_layer_train(encoder_state, dec_cell, dec_embed_input, sequence_length, decoding_scope, output_fn, keep_prob)\n",
    "\n",
    "    with tf.variable_scope('decoding', reuse=True) as decoding_scope:\n",
    "        inference_logits, inference_final_state = decoding_layer_infer(encoder_state, dec_cell, dec_embeddings, start_of_sequence_id, end_of_sequence_id, sequence_length, vocab_size, decoding_scope, output_fn, keep_prob)\n",
    "    \n",
    "    with tf.variable_scope('decoding', reuse=True) as decoding_scope:\n",
    "        sample_out, probs = sample(encoder_state, dec_cell, dec_embed_input, sequence_length, decoding_scope, output_fn, keep_prob, dec_embeddings, batch_size)\n",
    "\n",
    "    return training_logits, inference_logits, sample_out, probs\n",
    "\n",
    "\n",
    "\n",
    "\"\"\"\n",
    "DON'T MODIFY ANYTHING IN THIS CELL THAT IS BELOW THIS LINE\n",
    "\"\"\"\n",
    "#tests.test_decoding_layer(decoding_layer)"
   ]
  },
  {
   "cell_type": "markdown",
   "metadata": {
    "deletable": true,
    "editable": true
   },
   "source": [
    "### Build the Neural Network\n",
    "Apply the functions you implemented above to:\n",
    "\n",
    "- Apply embedding to the input data for the encoder.\n",
    "- Encode the input using your `encoding_layer(rnn_inputs, rnn_size, num_layers, keep_prob)`.\n",
    "- Process target data using your `process_decoding_input(target_data, target_vocab_to_int, batch_size)` function.\n",
    "- Apply embedding to the target data for the decoder.\n",
    "- Decode the encoded input using your `decoding_layer(dec_embed_input, dec_embeddings, encoder_state, vocab_size, sequence_length, rnn_size, num_layers, target_vocab_to_int, keep_prob)`."
   ]
  },
  {
   "cell_type": "code",
   "execution_count": 13,
   "metadata": {
    "collapsed": false,
    "deletable": true,
    "editable": true
   },
   "outputs": [],
   "source": [
    "def seq2seq_model(input_data, target_data, keep_prob, batch_size, sequence_length, source_vocab_size, target_vocab_size,\n",
    "                  enc_embedding_size, dec_embedding_size, rnn_size, num_layers, target_vocab_to_int):\n",
    "    \"\"\"\n",
    "    Build the Sequence-to-Sequence part of the neural network\n",
    "    :param input_data: Input placeholder\n",
    "    :param target_data: Target placeholder\n",
    "    :param keep_prob: Dropout keep probability placeholder\n",
    "    :param batch_size: Batch Size\n",
    "    :param sequence_length: Sequence Length\n",
    "    :param source_vocab_size: Source vocabulary size\n",
    "    :param target_vocab_size: Target vocabulary size\n",
    "    :param enc_embedding_size: Decoder embedding size\n",
    "    :param dec_embedding_size: Encoder embedding size\n",
    "    :param rnn_size: RNN Size\n",
    "    :param num_layers: Number of layers\n",
    "    :param target_vocab_to_int: Dictionary to go from the target words to an id\n",
    "    :return: Tuple of (Training Logits, Inference Logits)\n",
    "    \"\"\"\n",
    "    \n",
    "    # Apply embedding to the input data for the encoder.\n",
    "    embedded_input = tf.contrib.layers.embed_sequence(\n",
    "        input_data,\n",
    "        vocab_size=source_vocab_size,\n",
    "        embed_dim=enc_embedding_size\n",
    "    )\n",
    "    \n",
    "    # Encode the input \n",
    "    encoded_state = encoding_layer(embedded_input, rnn_size, num_layers, keep_prob)\n",
    "    #encoded_state_tensor = tf.identity(encoded_state, name='encoded_state')\n",
    "    \n",
    "    # Process target data \n",
    "    target_data = process_decoding_input(target_data, target_vocab_to_int, batch_size)\n",
    "    \n",
    "    # Apply embedding to the target data for the decoder.\n",
    "    \n",
    "    dec_embeddings = tf.Variable(tf.random_uniform([target_vocab_size, dec_embedding_size]))  \n",
    "    dec_embed_input = tf.nn.embedding_lookup(dec_embeddings, target_data)\n",
    "    \n",
    "    # Decode the encoded input\n",
    "    training_logits, inference_logits, sample, probs = decoding_layer(\n",
    "        dec_embed_input,\n",
    "        dec_embeddings,\n",
    "        encoded_state,\n",
    "        target_vocab_size,\n",
    "        sequence_length,\n",
    "        rnn_size,\n",
    "        num_layers,\n",
    "        target_vocab_to_int,\n",
    "        keep_prob, \n",
    "        batch_size\n",
    "    )\n",
    "    \n",
    "    return training_logits, inference_logits, sample, probs\n",
    "\n",
    "#tests.test_seq2seq_model(seq2seq_model)"
   ]
  },
  {
   "cell_type": "markdown",
   "metadata": {
    "deletable": true,
    "editable": true
   },
   "source": [
    "## Neural Network Training\n",
    "### Hyperparameters\n",
    "Tune the following parameters:\n",
    "\n",
    "- Set `epochs` to the number of epochs.\n",
    "- Set `batch_size` to the batch size.\n",
    "- Set `rnn_size` to the size of the RNNs.\n",
    "- Set `num_layers` to the number of layers.\n",
    "- Set `encoding_embedding_size` to the size of the embedding for the encoder.\n",
    "- Set `decoding_embedding_size` to the size of the embedding for the decoder.\n",
    "- Set `learning_rate` to the learning rate.\n",
    "- Set `keep_probability` to the Dropout keep probability"
   ]
  },
  {
   "cell_type": "code",
   "execution_count": 14,
   "metadata": {
    "collapsed": true,
    "deletable": true,
    "editable": true
   },
   "outputs": [],
   "source": [
    "# Number of Epochs\n",
    "#epochs = 1000\n",
    "# Batch Size\n",
    "batch_size = 128\n",
    "# RNN Size\n",
    "rnn_size = 256\n",
    "# Number of Layers\n",
    "num_layers = 2\n",
    "# Embedding Size\n",
    "encoding_embedding_size = 128\n",
    "decoding_embedding_size = 128\n",
    "# Learning Rate\n",
    "learning_rate = 0.001\n",
    "# Dropout Keep Probability\n",
    "keep_probability = 0.8\n",
    "\n",
    "mle_epochs = 1\n",
    "reinforce_epochs = 1\n",
    "\n",
    "mle_learning_rate = 0.001\n",
    "reinforce_learning_rate = 0.00001\n"
   ]
  },
  {
   "cell_type": "markdown",
   "metadata": {
    "deletable": true,
    "editable": true
   },
   "source": [
    "### Build the Graph\n",
    "Build the graph using the neural network you implemented."
   ]
  },
  {
   "cell_type": "code",
   "execution_count": 15,
   "metadata": {
    "collapsed": false,
    "deletable": true,
    "editable": true
   },
   "outputs": [],
   "source": [
    "save_path = 'checkpoints/dev'\n",
    "(source_int_text, target_int_text), (source_vocab_to_int, target_vocab_to_int), _ = helper.load_preprocess()\n",
    "max_source_sentence_length = max([len(sentence) for sentence in source_int_text])\n",
    "\n",
    "class RNN:\n",
    "    \n",
    "    def __init__(self, batch_size):\n",
    "\n",
    "        #train_graph = tf.Graph()\n",
    "        #with train_graph.as_default():\n",
    "        tf.reset_default_graph()\n",
    "\n",
    "        self.advantage = tf.placeholder(tf.float32, shape=(None), name='advantage')\n",
    "\n",
    "        self.input_data, self.targets, self.lr, self.keep_prob = model_inputs(batch_size)\n",
    "        self.sequence_length = tf.placeholder_with_default(max_source_sentence_length, None, name='sequence_length')\n",
    "        input_shape = tf.shape(self.input_data)\n",
    "\n",
    "        self.train_logits, self.inference_logits, self.sample, self.probs = seq2seq_model(\n",
    "            tf.reverse(self.input_data, [-1]), self.targets, self.keep_prob, batch_size, self.sequence_length, len(source_vocab_to_int), len(target_vocab_to_int),\n",
    "            encoding_embedding_size, decoding_embedding_size, rnn_size, num_layers, target_vocab_to_int)\n",
    "\n",
    "        tf.identity(self.inference_logits, 'logits')\n",
    "        with tf.name_scope(\"optimization\"):\n",
    "\n",
    "            \n",
    "            # Reinforce optimizer\n",
    "            \n",
    "            \n",
    "                \n",
    "            # new reinforce optimizer\n",
    "            optimizer = tf.train.AdamOptimizer(self.lr)\n",
    "            \n",
    "    \n",
    "            self.sample_costs = - tf.reduce_sum(self.probs, axis=-1)\n",
    "            print(\"sample_costs\", self.sample_costs)\n",
    "        \n",
    "            #fn = lambda x: optimizer.compute_gradients(x)\n",
    "            \n",
    "            #self.sample_gradients = tf.map_fn(\n",
    "            #    fn,\n",
    "            #    self.sample_costs\n",
    "            #)\n",
    "            \n",
    "            self.sample_gradients = optimizer.compute_gradients(self.sample_costs[0])\n",
    "            print(\"sample gradients\", self.sample_gradients)\n",
    "            \n",
    "            #self.new_reinf_cost = - tf.reduce_sum(self.probs, axis=-1)\n",
    "        \n",
    "            #self.new_gradients = tf.gradients(self.new_reinf_cost, tf.trainable_variables())\n",
    "            #self.new_gradients = optimizer.compute_gradients(self.new_reinf_cost, tf.trainable_variables())\n",
    "            #print(\"new gradients shape\", tf.shape(self.new_gradients))\n",
    "            #print(\"new gradients\", self.new_gradients)\n",
    "            \n",
    "            self.new_train_op = optimizer.apply_gradients(self.sample_gradients, name='train_op')\n",
    "            \n",
    "            \"\"\"\n",
    "            self.inference_probs = tf.nn.softmax(self.inference_logits)\n",
    "            self.train_probs = tf.reduce_max(self.inference_probs, reduction_indices=[2], name='train_probs')\n",
    "            \n",
    "            \n",
    "            train_cost = tf.multiply(tf.transpose(self.train_probs), self.advantage)\n",
    "            \n",
    "            self.cost = - tf.reduce_sum(train_cost, axis=-1, name='cost')\n",
    "            \"\"\"\n",
    "            \"\"\"\n",
    "            # Optimizer\n",
    "            optimizer = tf.train.AdamOptimizer(self.lr)\n",
    "            \n",
    "            self.gradients = optimizer.compute_gradients(self.cost)\n",
    "            \n",
    "            self.train_op = optimizer.apply_gradients(self.gradients, name='train_op')\n",
    "            #self.train_op = optimizer.minimize(self.cost, name ='train_op')\n",
    "            \"\"\"\n",
    "            \"\"\"\n",
    "            # Reinforce optimizer\n",
    "            #print(\"probs\",self.probs)\n",
    "            #self.cost_last = - tf.reduce_sum(self.probs, axis=-1, name='cost')\n",
    "            #self.cost = - tf.reduce_sum(self.probs, name='cost')\n",
    " \n",
    "            self.cost = tf.to_float(self.cost)\n",
    "            #train_vars = tf.trainable_variables()\n",
    " \n",
    " \n",
    " \n",
    "            #self.gradients = tf.gradients(self.cost_last[0], train_vars)\n",
    "\n",
    " \n",
    "            \n",
    " \n",
    "            optimizer = tf.train.AdamOptimizer(self.lr)\n",
    " \n",
    "            self.gradients = optimizer.compute_gradients(self.cost)\n",
    " \n",
    " \n",
    "            #self.reward_gradients = tf.multiply(self.gradients, self.advantage)\n",
    "            #print(self.reward_gradients)\n",
    "            self.train_op = optimizer.apply_gradients(self.gradients, name='train_op')\n",
    "            #self.train_op = optimizer.minimize(self.cost, name ='train_op')\n",
    "            \"\"\"\n",
    "\n",
    "            # MLE optimizer\n",
    "            self.mle_cost = tf.contrib.seq2seq.sequence_loss(\n",
    "                self.train_logits,\n",
    "                self.targets,\n",
    "                tf.ones([input_shape[0], self.sequence_length]))\n",
    "\n",
    "            # Optimizer\n",
    "            mle_optimizer = tf.train.AdamOptimizer(self.lr)\n",
    "\n",
    "            # Gradient Clipping\n",
    "            gradients = optimizer.compute_gradients(self.mle_cost)\n",
    "            capped_gradients = [(tf.clip_by_value(grad, -1., 1.), var) for grad, var in gradients if grad is not None]\n",
    "            self.mle_train_op = optimizer.apply_gradients(capped_gradients)\n",
    "\n"
   ]
  },
  {
   "cell_type": "markdown",
   "metadata": {
    "deletable": true,
    "editable": true
   },
   "source": [
    "## Sentence to Sequence\n",
    "To feed a sentence into the model for translation, you first need to preprocess it.  Implement the function `sentence_to_seq()` to preprocess new sentences.\n",
    "\n",
    "- Convert the sentence to lowercase\n",
    "- Convert words into ids using `vocab_to_int`\n",
    "- Convert words not in the vocabulary, to the `<UNK>` word id."
   ]
  },
  {
   "cell_type": "code",
   "execution_count": 16,
   "metadata": {
    "collapsed": false,
    "deletable": true,
    "editable": true
   },
   "outputs": [
    {
     "name": "stdout",
     "output_type": "stream",
     "text": [
      "Tests Passed\n"
     ]
    }
   ],
   "source": [
    "def sentence_to_seq(sentence, vocab_to_int):\n",
    "    \"\"\"\n",
    "    Convert a sentence to a sequence of ids\n",
    "    :param sentence: String\n",
    "    :param vocab_to_int: Dictionary to go from the words to an id\n",
    "    :return: List of word ids\n",
    "    \"\"\"\n",
    "    sentence = sentence.lower()\n",
    "    words = sentence.split(\" \")\n",
    "    return [vocab_to_int[word] if word in vocab_to_int.keys() else vocab_to_int['<UNK>'] for word in words ]\n",
    "\n",
    "\"\"\"\n",
    "DON'T MODIFY ANYTHING IN THIS CELL THAT IS BELOW THIS LINE\n",
    "\"\"\"\n",
    "tests.test_sentence_to_seq(sentence_to_seq)"
   ]
  },
  {
   "cell_type": "code",
   "execution_count": 17,
   "metadata": {
    "collapsed": false,
    "deletable": true,
    "editable": true
   },
   "outputs": [],
   "source": [
    "\"\"\"\n",
    "DON'T MODIFY ANYTHING IN THIS CELL\n",
    "\"\"\"\n",
    "import tensorflow as tf\n",
    "import numpy as np\n",
    "import helper\n",
    "import problem_unittests as tests\n",
    "\n",
    "_, (source_vocab_to_int, target_vocab_to_int), (source_int_to_vocab, target_int_to_vocab) = helper.load_preprocess()\n",
    "load_path = helper.load_params()"
   ]
  },
  {
   "cell_type": "markdown",
   "metadata": {},
   "source": [
    "testtest"
   ]
  },
  {
   "cell_type": "code",
   "execution_count": 18,
   "metadata": {
    "collapsed": false
   },
   "outputs": [
    {
     "name": "stdout",
     "output_type": "stream",
     "text": [
      "sample_costs Tensor(\"optimization/Neg:0\", shape=(?,), dtype=float32)\n",
      "sample gradients [(<tensorflow.python.framework.ops.IndexedSlices object at 0x123b69eb8>, <tensorflow.python.ops.variables.Variable object at 0x118579ef0>), (<tf.Tensor 'optimization/gradients/rnn/while/multi_rnn_cell/cell_0/basic_lstm_cell/basic_lstm_cell/MatMul/Enter_grad/b_acc_3:0' shape=(384, 1024) dtype=float32>, <tensorflow.python.ops.variables.Variable object at 0x1152ed8d0>), (<tf.Tensor 'optimization/gradients/rnn/while/multi_rnn_cell/cell_0/basic_lstm_cell/BiasAdd/Enter_grad/b_acc_3:0' shape=(1024,) dtype=float32>, <tensorflow.python.ops.variables.Variable object at 0x1152ed908>), (<tf.Tensor 'optimization/gradients/rnn/while/multi_rnn_cell/cell_1/basic_lstm_cell/basic_lstm_cell/MatMul/Enter_grad/b_acc_3:0' shape=(512, 1024) dtype=float32>, <tensorflow.python.ops.variables.Variable object at 0x1185b7908>), (<tf.Tensor 'optimization/gradients/rnn/while/multi_rnn_cell/cell_1/basic_lstm_cell/BiasAdd/Enter_grad/b_acc_3:0' shape=(1024,) dtype=float32>, <tensorflow.python.ops.variables.Variable object at 0x1185b7630>), (<tensorflow.python.framework.ops.IndexedSlices object at 0x1234c2ba8>, <tensorflow.python.ops.variables.Variable object at 0x118579f28>), (<tf.Tensor 'optimization/gradients/AddN_98:0' shape=(384, 1024) dtype=float32>, <tensorflow.python.ops.variables.Variable object at 0x11dddab38>), (<tf.Tensor 'optimization/gradients/AddN_96:0' shape=(1024,) dtype=float32>, <tensorflow.python.ops.variables.Variable object at 0x11dddacf8>), (<tf.Tensor 'optimization/gradients/AddN_90:0' shape=(512, 1024) dtype=float32>, <tensorflow.python.ops.variables.Variable object at 0x11de3bc50>), (<tf.Tensor 'optimization/gradients/AddN_88:0' shape=(1024,) dtype=float32>, <tensorflow.python.ops.variables.Variable object at 0x11de4b470>), (<tf.Tensor 'optimization/gradients/AddN_81:0' shape=(256, 358) dtype=float32>, <tensorflow.python.ops.variables.Variable object at 0x11defb160>), (<tf.Tensor 'optimization/gradients/AddN_79:0' shape=(358,) dtype=float32>, <tensorflow.python.ops.variables.Variable object at 0x11defb4e0>)]\n",
      "[(IndexedSlicesValue(values=array([[ -3.09757213e-03,   8.18268745e-04,  -2.63660360e-04, ...,\n",
      "          6.01160806e-04,  -9.61731828e-04,  -1.34735217e-03],\n",
      "       [ -2.74125207e-03,   3.40108032e-04,  -5.82399371e-04, ...,\n",
      "          3.37061356e-04,  -7.27572420e-04,  -1.00278226e-03],\n",
      "       [ -2.12400150e-03,  -5.75741695e-04,  -8.01416405e-04, ...,\n",
      "         -6.40323924e-05,  -5.02285606e-04,  -4.95119835e-04],\n",
      "       ..., \n",
      "       [  0.00000000e+00,   0.00000000e+00,   0.00000000e+00, ...,\n",
      "          0.00000000e+00,   0.00000000e+00,   0.00000000e+00],\n",
      "       [  0.00000000e+00,   0.00000000e+00,   0.00000000e+00, ...,\n",
      "          0.00000000e+00,   0.00000000e+00,   0.00000000e+00],\n",
      "       [  0.00000000e+00,   0.00000000e+00,   0.00000000e+00, ...,\n",
      "          0.00000000e+00,   0.00000000e+00,   0.00000000e+00]], dtype=float32), indices=array([176,  74, 130, 151,  50,   4, 215, 176,  74, 130, 151,  50,   4,\n",
      "       215, 176,  74, 130, 151,  50,   4, 215, 176,  74, 130, 151,  50,\n",
      "         4, 215, 176,  74, 130, 151,  50,   4, 215], dtype=int32), dense_shape=array([231, 128], dtype=int32)), array([[-0.07438167, -0.06952284,  0.05469161, ..., -0.10778533,\n",
      "        -0.06069499, -0.06951901],\n",
      "       [ 0.11012685, -0.00712371, -0.02112913, ...,  0.09547989,\n",
      "         0.12101255, -0.01568581],\n",
      "       [-0.0004158 ,  0.10559949, -0.0040658 , ..., -0.07645831,\n",
      "         0.10442881, -0.00416344],\n",
      "       ..., \n",
      "       [ 0.11560221, -0.12716714, -0.09478167, ..., -0.11471248,\n",
      "        -0.03142396,  0.07827841],\n",
      "       [ 0.06005678, -0.11505609,  0.10405573, ...,  0.05637172,\n",
      "         0.06820995, -0.04697112],\n",
      "       [-0.00667891, -0.04796126,  0.08180763, ...,  0.11836255,\n",
      "        -0.10830891,  0.04199947]], dtype=float32)), (array([[ -1.67994112e-05,   1.18860189e-05,   7.94304651e-06, ...,\n",
      "         -6.40376811e-06,  -6.54098721e-06,  -4.34715389e-07],\n",
      "       [ -2.19256308e-05,   6.64858453e-06,   1.32926561e-05, ...,\n",
      "         -1.49164919e-06,  -4.93016330e-07,  -1.39290535e-07],\n",
      "       [ -1.58908442e-05,  -5.02230068e-06,   6.98605345e-06, ...,\n",
      "          9.83417067e-07,   1.85912961e-06,   3.35508474e-08],\n",
      "       ..., \n",
      "       [ -1.60784737e-06,   6.14927501e-07,  -6.00286512e-06, ...,\n",
      "          1.60146567e-06,   5.80590438e-07,   8.49112070e-08],\n",
      "       [  1.63543609e-06,  -6.01668262e-07,   3.75402669e-06, ...,\n",
      "         -3.25884031e-07,   3.89815995e-07,  -2.91663529e-08],\n",
      "       [ -7.29421345e-07,  -6.04234344e-07,   3.16456999e-06, ...,\n",
      "         -1.39549093e-06,  -6.60682304e-07,  -6.22668281e-08]], dtype=float32), array([[-0.01943069,  0.05989005,  0.01491541, ..., -0.01642494,\n",
      "        -0.03702066, -0.00090016],\n",
      "       [-0.03499882,  0.06089666,  0.05581482, ...,  0.04943389,\n",
      "        -0.05154004,  0.01599663],\n",
      "       [-0.06005589,  0.04938622, -0.01640499, ...,  0.01579746,\n",
      "         0.03686851, -0.05625558],\n",
      "       ..., \n",
      "       [-0.00934935,  0.02690911, -0.02182249, ..., -0.03329355,\n",
      "        -0.06371596, -0.01028598],\n",
      "       [ 0.02006231,  0.02060876,  0.04322301, ..., -0.05353707,\n",
      "        -0.05694363,  0.06030447],\n",
      "       [-0.04407321,  0.06507377, -0.06503718, ..., -0.00701846,\n",
      "         0.02402657, -0.06277184]], dtype=float32)), (array([  2.38059787e-04,   1.22524623e-04,  -4.51117172e-04, ...,\n",
      "         1.79229450e-04,   4.98561567e-05,   5.30213629e-06], dtype=float32), array([ 0.,  0.,  0., ...,  0.,  0.,  0.], dtype=float32)), (array([[ -7.20505611e-08,  -1.09305972e-07,   3.09859672e-07, ...,\n",
      "          2.87339191e-07,  -1.84988608e-07,  -1.91445949e-07],\n",
      "       [  3.20999305e-07,   1.72826063e-07,  -3.15608787e-07, ...,\n",
      "         -2.88229586e-07,   4.33061587e-07,   5.78610923e-07],\n",
      "       [  2.50819681e-07,   2.87358091e-07,  -1.12550754e-06, ...,\n",
      "         -5.64722086e-07,   1.26731004e-06,   9.32468879e-07],\n",
      "       ..., \n",
      "       [ -3.13357802e-08,  -3.32675967e-08,   1.56322571e-07, ...,\n",
      "          1.02420486e-07,  -1.34023850e-07,  -1.06254653e-07],\n",
      "       [  2.32091435e-09,  -3.04158618e-08,   2.88348076e-07, ...,\n",
      "          1.66788126e-07,  -2.16617877e-07,  -1.10505525e-07],\n",
      "       [ -7.11998780e-08,  -7.10875696e-08,   1.53844852e-07, ...,\n",
      "          8.79765025e-08,  -2.06132597e-07,  -1.87645270e-07]], dtype=float32), array([[-0.04667203,  0.05807649, -0.02546237, ..., -0.02114962,\n",
      "        -0.01161622, -0.01748121],\n",
      "       [ 0.00365204,  0.05798028,  0.05439112, ...,  0.02069132,\n",
      "         0.05757555,  0.04429427],\n",
      "       [ 0.00662667, -0.02427006, -0.02740955, ...,  0.01978815,\n",
      "        -0.03321423, -0.03191151],\n",
      "       ..., \n",
      "       [ 0.0562444 , -0.01605053,  0.05498546, ...,  0.04313412,\n",
      "         0.05266236,  0.0321556 ],\n",
      "       [ 0.0036079 ,  0.04216082,  0.05688697, ..., -0.01747948,\n",
      "         0.05453758, -0.0303688 ],\n",
      "       [ 0.03505464,  0.02468391, -0.03308645, ...,  0.00888424,\n",
      "        -0.0209251 , -0.03063235]], dtype=float32)), (array([ -2.59794706e-05,  -2.30365749e-05,   5.00336610e-05, ...,\n",
      "         3.54990298e-05,  -5.94182202e-05,  -5.86014867e-05], dtype=float32), array([ 0.,  0.,  0., ...,  0.,  0.,  0.], dtype=float32)), (IndexedSlicesValue(values=array([[-0.00169863,  0.00187478, -0.00053953, ..., -0.00145649,\n",
      "        -0.00117178, -0.00085217],\n",
      "       [ 0.        ,  0.        ,  0.        , ...,  0.        ,\n",
      "         0.        ,  0.        ],\n",
      "       [ 0.        ,  0.        ,  0.        , ...,  0.        ,\n",
      "         0.        ,  0.        ],\n",
      "       ..., \n",
      "       [ 0.        ,  0.        ,  0.        , ...,  0.        ,\n",
      "         0.        ,  0.        ],\n",
      "       [ 0.        ,  0.        ,  0.        , ...,  0.        ,\n",
      "         0.        ,  0.        ],\n",
      "       [-0.0062658 , -0.00522571,  0.00305397, ..., -0.00237855,\n",
      "        -0.00022044, -0.00598856]], dtype=float32), indices=array([347,  61,  23, 300, 319, 245, 100, 192,  29, 199, 211, 277, 276,\n",
      "        41,  20, 243, 293, 340, 191,  81,  17,  38, 182, 238, 355, 159,\n",
      "        65,   1,  64, 192,  66,  57, 218,  57, 152,  63, 306, 208, 279,\n",
      "        84, 101, 310, 306,  88, 133,   3], dtype=int32), dense_shape=array([358, 128], dtype=int32)), array([[ 0.89349878,  0.61857939,  0.80263376, ...,  0.64634979,\n",
      "         0.81610572,  0.99359238],\n",
      "       [ 0.28481841,  0.2043618 ,  0.08470225, ...,  0.89561749,\n",
      "         0.0476923 ,  0.0826205 ],\n",
      "       [ 0.26568103,  0.97812343,  0.48337662, ...,  0.72771251,\n",
      "         0.84648681,  0.89368761],\n",
      "       ..., \n",
      "       [ 0.4382453 ,  0.80352879,  0.11475205, ...,  0.2836225 ,\n",
      "         0.38400543,  0.91939902],\n",
      "       [ 0.71050537,  0.2080977 ,  0.79438567, ...,  0.16532052,\n",
      "         0.11347485,  0.37978506],\n",
      "       [ 0.96773016,  0.37633121,  0.60202944, ...,  0.47373283,\n",
      "         0.62260783,  0.70167732]], dtype=float32)), (array([[  1.02558546e-03,  -1.94850808e-03,  -2.48689787e-04, ...,\n",
      "          3.51349881e-05,  -4.67694015e-04,   7.13024754e-04],\n",
      "       [  1.88700063e-03,  -4.32276353e-03,  -4.73239314e-04, ...,\n",
      "          8.47001356e-05,  -7.52818654e-04,   1.43761805e-03],\n",
      "       [  1.94803905e-03,  -4.77792742e-03,  -8.15722917e-04, ...,\n",
      "          6.19642597e-05,  -3.76999378e-05,   1.85293227e-03],\n",
      "       ..., \n",
      "       [ -7.35400590e-06,   3.07640948e-05,  -1.48052532e-05, ...,\n",
      "          8.16843931e-06,  -4.87564139e-05,   3.81569589e-05],\n",
      "       [  1.10616907e-03,  -2.24422058e-03,  -7.19130272e-04, ...,\n",
      "          2.21990122e-05,   5.00087743e-04,   1.10580737e-03],\n",
      "       [ -5.84315683e-04,   1.17904879e-03,   3.65760498e-04, ...,\n",
      "          4.45607475e-06,  -3.30953713e-04,  -5.02158073e-04]], dtype=float32), array([[ 0.0403603 , -0.00913732,  0.03143521, ..., -0.06281926,\n",
      "        -0.00605114,  0.0367301 ],\n",
      "       [ 0.03572667, -0.05825333, -0.03482379, ...,  0.05530896,\n",
      "        -0.03787792, -0.01998257],\n",
      "       [-0.05725389,  0.03890935,  0.00897795, ...,  0.00477278,\n",
      "        -0.03378901,  0.05840581],\n",
      "       ..., \n",
      "       [-0.03341845, -0.03392153, -0.05900289, ...,  0.04207952,\n",
      "        -0.05953026,  0.01699726],\n",
      "       [ 0.00221279, -0.0612888 , -0.05431579, ...,  0.01640958,\n",
      "         0.0092602 , -0.05377386],\n",
      "       [ 0.04479422,  0.00395121, -0.06523474, ..., -0.04102127,\n",
      "         0.06526429, -0.03230257]], dtype=float32)), (array([  2.77622789e-03,  -7.29184831e-03,  -1.23651640e-03, ...,\n",
      "         9.74995201e-05,   4.12707450e-05,   2.15897406e-03], dtype=float32), array([ 0.,  0.,  0., ...,  0.,  0.,  0.], dtype=float32)), (array([[ -1.36633244e-04,  -1.59332514e-04,  -1.38637464e-04, ...,\n",
      "          1.41219876e-04,  -2.84526323e-05,  -1.40874914e-03],\n",
      "       [  9.22625914e-05,   8.83754110e-05,   1.71805834e-04, ...,\n",
      "         -5.53591126e-05,   1.30141445e-04,   4.09438537e-04],\n",
      "       [  1.86745441e-04,   2.40470530e-04,   3.48186353e-04, ...,\n",
      "         -1.51773027e-04,   2.78332154e-04,   1.57388323e-03],\n",
      "       ..., \n",
      "       [  6.02482032e-07,   1.60421791e-08,   7.36285187e-07, ...,\n",
      "          2.07114635e-06,   5.20946287e-07,  -2.36845099e-05],\n",
      "       [  8.53195343e-06,   1.26434998e-05,  -5.48016033e-08, ...,\n",
      "         -1.15862313e-05,  -4.00702447e-06,   1.32827859e-04],\n",
      "       [  2.81880602e-05,   5.63731955e-05,   4.27482519e-05, ...,\n",
      "         -4.11048095e-05,   2.69858574e-05,   5.01936651e-04]], dtype=float32), array([[ 0.03425057,  0.03981872,  0.05827861, ..., -0.00833225,\n",
      "         0.03164904,  0.00536881],\n",
      "       [ 0.05249855, -0.00124875,  0.02652337, ...,  0.01896335,\n",
      "        -0.03028689, -0.0082964 ],\n",
      "       [-0.00959815, -0.01366723,  0.0397341 , ...,  0.03600696,\n",
      "         0.01675926,  0.02986887],\n",
      "       ..., \n",
      "       [-0.04073022,  0.0332429 , -0.02208251, ..., -0.03731973,\n",
      "         0.03793776,  0.03359824],\n",
      "       [ 0.04656883, -0.05441801, -0.04567412, ..., -0.0364482 ,\n",
      "        -0.02601472,  0.05518967],\n",
      "       [ 0.03274481,  0.06199504,  0.04040384, ...,  0.02035885,\n",
      "        -0.01306009, -0.02730462]], dtype=float32)), (array([ 0.00079373,  0.00058857,  0.00098568, ..., -0.00042094,\n",
      "        0.00055617,  0.00348079], dtype=float32), array([ 0.,  0.,  0., ...,  0.,  0.,  0.], dtype=float32)), (array([[ -4.92587918e-04,  -4.92550374e-04,  -5.18065877e-04, ...,\n",
      "         -5.25847368e-04,  -5.90537908e-04,  -5.29029872e-04],\n",
      "       [  9.52198025e-06,   9.62806280e-06,   9.24017331e-06, ...,\n",
      "          8.42576719e-06,   5.63925823e-06,   8.28867996e-06],\n",
      "       [ -5.60172892e-04,  -5.60837856e-04,  -5.88399009e-04, ...,\n",
      "         -5.96542784e-04,  -6.68104389e-04,  -6.01427048e-04],\n",
      "       ..., \n",
      "       [ -5.02641487e-05,  -5.03519950e-05,  -5.37189044e-05, ...,\n",
      "         -5.49641263e-05,  -6.43628227e-05,  -5.53102982e-05],\n",
      "       [  3.48742527e-04,   3.47908528e-04,   3.67447501e-04, ...,\n",
      "          3.74476309e-04,   4.25175007e-04,   3.76391981e-04],\n",
      "       [  1.56777992e-03,   1.56727480e-03,   1.64991547e-03, ...,\n",
      "          1.67781464e-03,   1.89593609e-03,   1.68995420e-03]], dtype=float32), array([[-0.09436625,  0.09217012, -0.08935364, ..., -0.06152565,\n",
      "        -0.04065622,  0.08360335],\n",
      "       [-0.08024926,  0.08525136, -0.07084663, ..., -0.06273186,\n",
      "         0.03586368, -0.08572584],\n",
      "       [ 0.04530634,  0.08453976,  0.03981769, ...,  0.04477863,\n",
      "         0.00541045,  0.03087424],\n",
      "       ..., \n",
      "       [-0.02108361,  0.0158985 ,  0.06507617, ..., -0.02115643,\n",
      "        -0.04236547, -0.09294654],\n",
      "       [ 0.06848028,  0.01493292,  0.08628827, ..., -0.06488296,\n",
      "        -0.03687105, -0.08754125],\n",
      "       [ 0.03348072, -0.05028285, -0.03183425, ..., -0.00312002,\n",
      "         0.08501352, -0.03143116]], dtype=float32)), (array([ 0.026412  ,  0.02642347,  0.0275722 ,  0.02566738,  0.02805177,\n",
      "        0.02808912,  0.02592708,  0.02973236,  0.0269938 ,  0.0273004 ,\n",
      "        0.02872389,  0.02755657,  0.02866172,  0.02776925,  0.02834344,\n",
      "        0.02867623,  0.02707789, -0.97265935,  0.0294218 ,  0.02808309,\n",
      "        0.02801797,  0.02827576,  0.02778431,  0.02655654,  0.02831607,\n",
      "        0.02624673,  0.02837177,  0.0282612 ,  0.03027391,  0.02708224,\n",
      "        0.02731695,  0.02926559,  0.02593263,  0.02962396,  0.02737745,\n",
      "        0.02752814,  0.02743595,  0.0279395 ,  0.02717251,  0.02819677,\n",
      "        0.02756272,  0.02747909,  0.02529776,  0.02785651,  0.02792949,\n",
      "        0.02605839,  0.02768147,  0.02777366,  0.02972576,  0.02855503,\n",
      "        0.02840626,  0.0285275 ,  0.0269376 ,  0.02923652,  0.02968643,\n",
      "        0.02726527,  0.02819842,  0.02891859,  0.02852456,  0.0285748 ,\n",
      "        0.0285412 ,  0.02812657,  0.02678866, -0.97171503,  0.02764482,\n",
      "        0.02962203, -0.9726913 ,  0.02638301,  0.02865347,  0.0282788 ,\n",
      "        0.02590184,  0.0274509 ,  0.02991342,  0.02667643,  0.02672816,\n",
      "        0.02756021,  0.02859817,  0.02633648,  0.02655174,  0.02654668,\n",
      "        0.02798315,  0.02729693,  0.02991153,  0.02831158,  0.02738715,\n",
      "        0.02817706,  0.03094513,  0.0282063 ,  0.02863563,  0.0283788 ,\n",
      "        0.02656335,  0.02566287,  0.02696487,  0.02763214,  0.02812791,\n",
      "        0.02694368,  0.02711696,  0.027748  ,  0.02741717,  0.02821177,\n",
      "        0.0288559 , -0.97181731,  0.02810096,  0.029324  ,  0.0295721 ,\n",
      "        0.02692656,  0.02764276,  0.02706435,  0.02655267,  0.02571256,\n",
      "        0.02648497,  0.02860693,  0.02637869,  0.02714302,  0.0289947 ,\n",
      "        0.02767609,  0.02832875,  0.02761422,  0.02934597,  0.02815292,\n",
      "        0.02834345,  0.02806609,  0.02872182,  0.02783201,  0.02771836,\n",
      "        0.02784751,  0.02636136,  0.02890548,  0.02685302,  0.02484415,\n",
      "        0.02801227,  0.02735848, -0.96917915,  0.02698632,  0.02797117,\n",
      "        0.02834761,  0.02856736,  0.02507813,  0.02846913,  0.02916914,\n",
      "        0.02792288,  0.02691196,  0.02730024,  0.02897296,  0.02826052,\n",
      "        0.0292206 ,  0.0265763 ,  0.02649606,  0.02655077,  0.02779976,\n",
      "        0.02817721,  0.02754444,  0.02842854,  0.02659814,  0.02708975,\n",
      "        0.02778969,  0.02808511,  0.02730502,  0.02786342, -0.97282964,\n",
      "        0.02825009,  0.03114325,  0.02859251,  0.02727041,  0.02814866,\n",
      "        0.03075642,  0.02902321,  0.02714273,  0.02781225,  0.02978089,\n",
      "        0.02485568,  0.02557638,  0.03077572,  0.02943278,  0.02884673,\n",
      "        0.02797292,  0.02531744,  0.02480895,  0.02972463,  0.028721  ,\n",
      "        0.02736435,  0.02952202,  0.02998636,  0.02820408,  0.02840207,\n",
      "        0.02778728,  0.0312006 ,  0.02889285,  0.02701621,  0.02900451,\n",
      "        0.02720185,  0.02659246,  0.02941669,  0.02835234,  0.03009212,\n",
      "        0.02890188,  0.02897124,  0.02820285,  0.02715477,  0.02690034,\n",
      "        0.02866456,  0.02697531,  0.02779136,  0.02713357,  0.02960432,\n",
      "        0.02703434,  0.02903161,  0.02868998,  0.02750684,  0.02550834,\n",
      "        0.02881399, -0.97317535,  0.02808865,  0.02682693,  0.02636971,\n",
      "        0.02814173,  0.02645694,  0.02919526,  0.02907466,  0.02710145,\n",
      "        0.02655044,  0.02956599,  0.02788319,  0.02848953,  0.02919459,\n",
      "        0.02711962,  0.02921028,  0.0286956 ,  0.02697687,  0.0281617 ,\n",
      "        0.02814816,  0.02631632,  0.02808123,  0.02805458,  0.02778134,\n",
      "        0.02542729,  0.02710945,  0.02664021,  0.03194308,  0.02955266,\n",
      "        0.02849182,  0.02797309,  0.02979072, -0.97299445,  0.02805446,\n",
      "       -0.9718073 ,  0.02794322,  0.02798102,  0.02916226,  0.02815459,\n",
      "        0.0284027 ,  0.02904427,  0.02692789,  0.02854338,  0.02809265,\n",
      "        0.02757181,  0.02896569,  0.02686645,  0.03012194,  0.02788804,\n",
      "        0.0285555 ,  0.02585804,  0.02771709,  0.02744792,  0.02909315,\n",
      "        0.02570956,  0.02723643,  0.03036367,  0.02690116,  0.02585424,\n",
      "        0.02997142,  0.02639987,  0.02736927,  0.02718474,  0.0297687 ,\n",
      "        0.02743427,  0.02764428,  0.02793228,  0.02829473,  0.02814972,\n",
      "        0.02655943,  0.02861038,  0.0289874 ,  0.02797569,  0.02865849,\n",
      "        0.02871975,  0.02775735,  0.02852721,  0.02739632,  0.02685267,\n",
      "        0.0275963 ,  0.02626367,  0.02720821,  0.02516213,  0.0287196 ,\n",
      "        0.0272162 ,  0.0250913 ,  0.02840292,  0.02956006,  0.02909939,\n",
      "        0.0283744 ,  0.02796039,  0.02954674,  0.02736262,  0.02773173,\n",
      "        0.02611699,  0.02786531,  0.02657744,  0.02842789,  0.02749305,\n",
      "        0.02852902,  0.02850756,  0.02922264,  0.02478637,  0.0292073 ,\n",
      "        0.02864436,  0.0283328 ,  0.02864052,  0.02825355,  0.02835998,\n",
      "        0.02805393,  0.02697659,  0.0291662 ,  0.02861144,  0.02693185,\n",
      "        0.03090107,  0.02930888,  0.0294516 ,  0.02765938,  0.02904653,\n",
      "        0.02928437,  0.02911852,  0.02701219,  0.02897376,  0.02563095,\n",
      "        0.0280185 ,  0.02723094,  0.02803585,  0.02645637,  0.03110707,\n",
      "        0.02687876,  0.0270883 ,  0.0266906 ,  0.02915561,  0.02748151,\n",
      "        0.02750925,  0.02808612, -0.97139192,  0.02593177,  0.02619029,\n",
      "        0.02816882,  0.02779549,  0.02874917,  0.03074676,  0.02847259,\n",
      "        0.02790936,  0.03073804,  0.0280898 ], dtype=float32), array([ 0.,  0.,  0.,  0.,  0.,  0.,  0.,  0.,  0.,  0.,  0.,  0.,  0.,\n",
      "        0.,  0.,  0.,  0.,  0.,  0.,  0.,  0.,  0.,  0.,  0.,  0.,  0.,\n",
      "        0.,  0.,  0.,  0.,  0.,  0.,  0.,  0.,  0.,  0.,  0.,  0.,  0.,\n",
      "        0.,  0.,  0.,  0.,  0.,  0.,  0.,  0.,  0.,  0.,  0.,  0.,  0.,\n",
      "        0.,  0.,  0.,  0.,  0.,  0.,  0.,  0.,  0.,  0.,  0.,  0.,  0.,\n",
      "        0.,  0.,  0.,  0.,  0.,  0.,  0.,  0.,  0.,  0.,  0.,  0.,  0.,\n",
      "        0.,  0.,  0.,  0.,  0.,  0.,  0.,  0.,  0.,  0.,  0.,  0.,  0.,\n",
      "        0.,  0.,  0.,  0.,  0.,  0.,  0.,  0.,  0.,  0.,  0.,  0.,  0.,\n",
      "        0.,  0.,  0.,  0.,  0.,  0.,  0.,  0.,  0.,  0.,  0.,  0.,  0.,\n",
      "        0.,  0.,  0.,  0.,  0.,  0.,  0.,  0.,  0.,  0.,  0.,  0.,  0.,\n",
      "        0.,  0.,  0.,  0.,  0.,  0.,  0.,  0.,  0.,  0.,  0.,  0.,  0.,\n",
      "        0.,  0.,  0.,  0.,  0.,  0.,  0.,  0.,  0.,  0.,  0.,  0.,  0.,\n",
      "        0.,  0.,  0.,  0.,  0.,  0.,  0.,  0.,  0.,  0.,  0.,  0.,  0.,\n",
      "        0.,  0.,  0.,  0.,  0.,  0.,  0.,  0.,  0.,  0.,  0.,  0.,  0.,\n",
      "        0.,  0.,  0.,  0.,  0.,  0.,  0.,  0.,  0.,  0.,  0.,  0.,  0.,\n",
      "        0.,  0.,  0.,  0.,  0.,  0.,  0.,  0.,  0.,  0.,  0.,  0.,  0.,\n",
      "        0.,  0.,  0.,  0.,  0.,  0.,  0.,  0.,  0.,  0.,  0.,  0.,  0.,\n",
      "        0.,  0.,  0.,  0.,  0.,  0.,  0.,  0.,  0.,  0.,  0.,  0.,  0.,\n",
      "        0.,  0.,  0.,  0.,  0.,  0.,  0.,  0.,  0.,  0.,  0.,  0.,  0.,\n",
      "        0.,  0.,  0.,  0.,  0.,  0.,  0.,  0.,  0.,  0.,  0.,  0.,  0.,\n",
      "        0.,  0.,  0.,  0.,  0.,  0.,  0.,  0.,  0.,  0.,  0.,  0.,  0.,\n",
      "        0.,  0.,  0.,  0.,  0.,  0.,  0.,  0.,  0.,  0.,  0.,  0.,  0.,\n",
      "        0.,  0.,  0.,  0.,  0.,  0.,  0.,  0.,  0.,  0.,  0.,  0.,  0.,\n",
      "        0.,  0.,  0.,  0.,  0.,  0.,  0.,  0.,  0.,  0.,  0.,  0.,  0.,\n",
      "        0.,  0.,  0.,  0.,  0.,  0.,  0.,  0.,  0.,  0.,  0.,  0.,  0.,\n",
      "        0.,  0.,  0.,  0.,  0.,  0.,  0.,  0.,  0.,  0.,  0.,  0.,  0.,\n",
      "        0.,  0.,  0.,  0.,  0.,  0.,  0.,  0.,  0.,  0.,  0.,  0.,  0.,\n",
      "        0.,  0.,  0.,  0.,  0.,  0.,  0.], dtype=float32))]\n"
     ]
    },
    {
     "ename": "TypeError",
     "evalue": "unhashable type: 'list'",
     "output_type": "error",
     "traceback": [
      "\u001b[0;31m---------------------------------------------------------------------------\u001b[0m",
      "\u001b[0;31mTypeError\u001b[0m                                 Traceback (most recent call last)",
      "\u001b[0;32m<ipython-input-18-9dce95bfed0b>\u001b[0m in \u001b[0;36m<module>\u001b[0;34m()\u001b[0m\n\u001b[1;32m     27\u001b[0m \u001b[0;34m\u001b[0m\u001b[0m\n\u001b[1;32m     28\u001b[0m \u001b[0mcheckpoint\u001b[0m \u001b[0;34m=\u001b[0m \u001b[0mtf\u001b[0m\u001b[0;34m.\u001b[0m\u001b[0mtrain\u001b[0m\u001b[0;34m.\u001b[0m\u001b[0mlatest_checkpoint\u001b[0m\u001b[0;34m(\u001b[0m\u001b[0;34m'checkpoints/dev'\u001b[0m\u001b[0;34m)\u001b[0m\u001b[0;34m\u001b[0m\u001b[0m\n\u001b[0;32m---> 29\u001b[0;31m \u001b[0msamples_out_x\u001b[0m\u001b[0;34m,\u001b[0m \u001b[0mprobs_out_x\u001b[0m \u001b[0;34m=\u001b[0m \u001b[0mget_samples\u001b[0m\u001b[0;34m(\u001b[0m\u001b[0mcheckpoint\u001b[0m\u001b[0;34m,\u001b[0m \u001b[0;36m1\u001b[0m\u001b[0;34m,\u001b[0m \u001b[0;36m5\u001b[0m\u001b[0;34m,\u001b[0m \u001b[0mtranslate_seq\u001b[0m\u001b[0;34m)\u001b[0m\u001b[0;34m\u001b[0m\u001b[0m\n\u001b[0m\u001b[1;32m     30\u001b[0m \u001b[0mprint\u001b[0m\u001b[0;34m(\u001b[0m\u001b[0mprobs_out_x\u001b[0m\u001b[0;34m)\u001b[0m\u001b[0;34m\u001b[0m\u001b[0m\n\u001b[1;32m     31\u001b[0m \u001b[0;32mfor\u001b[0m \u001b[0msample_x\u001b[0m \u001b[0;32min\u001b[0m \u001b[0msamples_out_x\u001b[0m\u001b[0;34m:\u001b[0m\u001b[0;34m\u001b[0m\u001b[0m\n",
      "\u001b[0;32m<ipython-input-18-9dce95bfed0b>\u001b[0m in \u001b[0;36mget_samples\u001b[0;34m(checkpoint, max_length, n_samples, source)\u001b[0m\n\u001b[1;32m     21\u001b[0m             {model.sample_gradients: np.array(sample_gradients_out),\n\u001b[1;32m     22\u001b[0m             \u001b[0mmodel\u001b[0m\u001b[0;34m.\u001b[0m\u001b[0mkeep_prob\u001b[0m\u001b[0;34m:\u001b[0m \u001b[0;36m1.\u001b[0m\u001b[0;34m,\u001b[0m\u001b[0;34m\u001b[0m\u001b[0m\n\u001b[0;32m---> 23\u001b[0;31m             model.lr: 0.0001})\n\u001b[0m\u001b[1;32m     24\u001b[0m         \u001b[0;31m#print(new_reinf_cost_out)\u001b[0m\u001b[0;34m\u001b[0m\u001b[0;34m\u001b[0m\u001b[0m\n\u001b[1;32m     25\u001b[0m         \u001b[0;31m#print(new_gradients_out)\u001b[0m\u001b[0;34m\u001b[0m\u001b[0;34m\u001b[0m\u001b[0m\n",
      "\u001b[0;31mTypeError\u001b[0m: unhashable type: 'list'"
     ]
    }
   ],
   "source": [
    "translate_sentence = 'he saw a old yellow truck .'\n",
    "translate_seq = sentence_to_seq(translate_sentence, source_vocab_to_int)\n",
    "\n",
    "def get_samples(checkpoint, max_length, n_samples, source):\n",
    "    model = RNN(n_samples)\n",
    "    saver = tf.train.Saver()\n",
    "    with tf.Session() as sess:\n",
    "\n",
    "        sess.run(tf.global_variables_initializer())\n",
    "    \n",
    "        samples_out, probs_out, sample_gradients_out = sess.run(\n",
    "            [model.sample, model.probs, model.sample_gradients],\n",
    "            {model.input_data: [source]*n_samples,\n",
    "            model.keep_prob: 1.,\n",
    "            model.lr: 0.0001})\n",
    "        \n",
    "        \n",
    "        print(sample_gradients_out)\n",
    "        _ = sess.run(\n",
    "            model.new_train_op,\n",
    "            {model.sample_gradients: np.array(sample_gradients_out),\n",
    "            model.keep_prob: 1.,\n",
    "            model.lr: 0.0001})\n",
    "        #print(new_reinf_cost_out)\n",
    "        #print(new_gradients_out)\n",
    "        return samples_out, probs_out\n",
    "        \n",
    "checkpoint = tf.train.latest_checkpoint('checkpoints/dev')\n",
    "samples_out_x, probs_out_x = get_samples(checkpoint, 1, 5, translate_seq)\n",
    "print(probs_out_x)\n",
    "for sample_x in samples_out_x:\n",
    "    print('  French Words: {}'.format([target_int_to_vocab[i] for i in sample_x]))"
   ]
  },
  {
   "cell_type": "markdown",
   "metadata": {
    "deletable": true,
    "editable": true
   },
   "source": [
    "### Train\n",
    "Train the neural network on the preprocessed data. If you have a hard time getting a good loss, check the forums to see if anyone is having the same problem."
   ]
  },
  {
   "cell_type": "code",
   "execution_count": null,
   "metadata": {
    "collapsed": false
   },
   "outputs": [],
   "source": [
    "import nltk\n",
    "from nltk.translate.bleu_score import SmoothingFunction\n",
    "\n",
    "def get_reward(reference, hypothesis):\n",
    "    return nltk.translate.bleu_score.sentence_bleu(reference,hypothesis, smoothing_function=SmoothingFunction().method4)\n",
    "\n",
    "def train_reinforce(feed_dict, advantage_placeholder):\n",
    "    # get reward     \n",
    "    #batch_train_logits = sess.run(inference_logits, feed_dict)\n",
    "    samples, sample_prob_gradients = sess.run([model.sample, model.gradients], feed_dict)\n",
    "    print(samples)\n",
    "    hypotheses = []\n",
    "    rewards = []\n",
    "    for i in range(len(samples)):\n",
    "        out = [target_int_to_vocab[j] for j in samples[i]]\n",
    "        hypothesis = ' '.join(word for word in out)\n",
    "\n",
    "        #TODO: handle EOS better\n",
    "        source_list = [source_int_to_vocab[j] for j in source_batch[i]]\n",
    "        source_string = ' '.join(word for word in source_list if word != '<PAD>' and word != '<EOS>')\n",
    "\n",
    "        target_list = [target_int_to_vocab[j] for j in target_batch[i]]\n",
    "        target_string = ' '.join(word for word in target_list if word != '<PAD>'and word != '<EOS>')\n",
    "\n",
    "        rewards.append(get_reward(target_string, hypothesis))\n",
    "        hypotheses.append(hypothesis)\n",
    "\n",
    "    avg_reward = sum(rewards)/len(rewards)\n",
    "    std_dev = np.array(rewards).std()\n",
    "\n",
    "    advantage_input = np.array([(x-avg_reward)/std_dev for x in rewards])\n",
    "    #feed_dict[advantage_placeholder] = advantage_input\n",
    "    feed_dict[model.gradients] = sample_prob_gradients\n",
    "    \n",
    "    # update weights\n",
    "    _, loss = sess.run(\n",
    "        [model.train_op, model.cost],feed_dict)\n",
    "    \n",
    "    return avg_reward, loss\n"
   ]
  },
  {
   "cell_type": "code",
   "execution_count": null,
   "metadata": {
    "collapsed": false,
    "deletable": true,
    "editable": true,
    "scrolled": true
   },
   "outputs": [],
   "source": [
    "import time\n",
    "\n",
    "model = RNN(batch_size)\n",
    "\n",
    "print(\"training...\")\n",
    "\n",
    "def get_accuracy(target, logits):\n",
    "    \"\"\"\n",
    "    Calculate accuracy\n",
    "    \"\"\"\n",
    "    max_seq = max(target.shape[1], logits.shape[1])\n",
    "    if max_seq - target.shape[1]:\n",
    "        target = np.pad(\n",
    "            target,\n",
    "            [(0,0),(0,max_seq - target.shape[1])],\n",
    "            'constant')\n",
    "    if max_seq - logits.shape[1]:\n",
    "        logits = np.pad(\n",
    "            logits,\n",
    "            [(0,0),(0,max_seq - logits.shape[1]), (0,0)],\n",
    "            'constant')\n",
    "\n",
    "    return np.mean(np.equal(target, np.argmax(logits, 2)))\n",
    "\n",
    "#temp\n",
    "source_int_text = source_int_text[:5000]\n",
    "target_int_text = target_int_text[:5000]\n",
    "\n",
    "train_source = source_int_text[batch_size:]\n",
    "train_target = target_int_text[batch_size:]\n",
    "\n",
    "valid_source = helper.pad_sentence_batch(source_int_text[:batch_size])\n",
    "valid_target = helper.pad_sentence_batch(target_int_text[:batch_size])\n",
    "\n",
    "\n",
    "#with tf.Session(graph=train_graph) as sess:\n",
    "with tf.Session() as sess:\n",
    "    sess.run(tf.global_variables_initializer())\n",
    "    \n",
    "    for epoch_i in range(mle_epochs + reinforce_epochs):\n",
    "        if epoch_i<mle_epochs:                   \n",
    "            train_method = 'MLE'\n",
    "        else:\n",
    "            train_method = 'reinforce'\n",
    "        \n",
    "        # save MLE trained model\n",
    "        if epoch_i == mle_epochs:    \n",
    "            saver = tf.train.Saver()\n",
    "            saver.save(sess, save_path+\"/mle\")\n",
    "            print('MLE Model Trained and Saved')\n",
    "\n",
    "        for batch_i, (source_batch, target_batch) in enumerate(\n",
    "                helper.batch_data(train_source, train_target, batch_size)):\n",
    "            start_time = time.time()\n",
    "\n",
    "            if train_method == 'reinforce':            \n",
    "                avg_reward, loss = train_reinforce({model.input_data: source_batch,\n",
    "                                                     model.targets: target_batch,\n",
    "                                                     model.lr: learning_rate,\n",
    "                                                     model.sequence_length: target_batch.shape[1],\n",
    "                                                     model.keep_prob: keep_probability\n",
    "                                                    }, model.advantage)\n",
    "  \n",
    "            if train_method == 'MLE':\n",
    "                \n",
    "                _, loss = sess.run(\n",
    "                    [model.mle_train_op, model.mle_cost],\n",
    "                    {model.input_data: source_batch,\n",
    "                     model.targets: target_batch,\n",
    "                     model.lr: mle_learning_rate,\n",
    "                     model.sequence_length: target_batch.shape[1],\n",
    "                     model.keep_prob: keep_probability})\n",
    "\n",
    "            batch_train_logits = sess.run(\n",
    "                model.inference_logits,\n",
    "                {model.input_data: source_batch, model.keep_prob: 1.0})\n",
    "            batch_valid_logits = sess.run(\n",
    "                model.inference_logits,\n",
    "                {model.input_data: valid_source, model.keep_prob: 1.0})\n",
    "\n",
    "            train_acc = get_accuracy(target_batch, batch_train_logits)\n",
    "            valid_acc = get_accuracy(np.array(valid_target), batch_valid_logits)\n",
    "            end_time = time.time()\n",
    "            \n",
    "            output = train_method + ': Epoch {:>3} Batch {:>4}/{} - Train Accuracy: {:>6.3f}, Validation Accuracy: {:>6.3f}, Loss: {:>6.3f}'.format(epoch_i, batch_i, len(source_int_text) // batch_size, train_acc, valid_acc, loss)\n",
    "            \n",
    "            if train_method == \"reinforce\":\n",
    "                output += \", Reward: {:>6.3f}\".format(avg_reward)\n",
    "            print(output)\n",
    "        \n",
    "    # Save Model\n",
    "    saver = tf.train.Saver()\n",
    "    saver.save(sess, save_path)\n",
    "    print('Model Trained and Saved')\n",
    "    \n",
    "    \n",
    "\"\"\"\n",
    "if batch_i % 100: \n",
    "    translate_sentence = 'he saw a old yellow truck .'\n",
    "    translate_sentence = sentence_to_seq(translate_sentence, source_vocab_to_int)\n",
    "    translate_logits = sess.run(inference_logits, {input_data: [translate_sentence], keep_prob: 1.0})[0]\n",
    "    print(' '.join(word for word in [target_int_to_vocab[i] for i in np.argmax(translate_logits, 1)] if word != '<PAD>'and word != '<EOS>'))\n",
    "\"\"\""
   ]
  },
  {
   "cell_type": "markdown",
   "metadata": {
    "deletable": true,
    "editable": true
   },
   "source": [
    "### Save Parameters\n",
    "Save the `batch_size` and `save_path` parameters for inference."
   ]
  },
  {
   "cell_type": "code",
   "execution_count": null,
   "metadata": {
    "collapsed": false,
    "deletable": true,
    "editable": true
   },
   "outputs": [],
   "source": [
    "\"\"\"\n",
    "DON'T MODIFY ANYTHING IN THIS CELL\n",
    "\"\"\"\n",
    "# Save parameters for checkpoint\n",
    "helper.save_params(save_path)"
   ]
  },
  {
   "cell_type": "markdown",
   "metadata": {
    "deletable": true,
    "editable": true
   },
   "source": [
    "# Checkpoint"
   ]
  },
  {
   "cell_type": "markdown",
   "metadata": {
    "deletable": true,
    "editable": true
   },
   "source": [
    "## Translate\n",
    "This will translate `translate_sentence` from English to French."
   ]
  },
  {
   "cell_type": "code",
   "execution_count": null,
   "metadata": {
    "collapsed": false,
    "deletable": true,
    "editable": true
   },
   "outputs": [],
   "source": [
    "checkpoint = tf.train.latest_checkpoint('checkpoints/dev')\n",
    "\n",
    "translate_sentence = 'he saw a old yellow truck .'\n",
    "translate_sentence = sentence_to_seq(translate_sentence, source_vocab_to_int)\n",
    "\n",
    "model = RNN(1)\n",
    "saver = tf.train.Saver()\n",
    "with tf.Session() as sess:\n",
    "    saver.restore(sess, checkpoint)\n",
    "\n",
    "    #loaded_graph = tf.Graph()\n",
    "    #with tf.Session(graph=loaded_graph) as sess:\n",
    "    # Load saved model\n",
    "    #loader = tf.train.import_meta_graph(load_path + '.meta')\n",
    "    #loader = tf.train.import_meta_graph(save_path+\"/mle\" + '.meta')\n",
    "    \n",
    "    #loader.restore(sess, load_path)\n",
    "\n",
    "    #input_data = loaded_graph.get_tensor_by_name('input:0')\n",
    "    #logits = loaded_graph.get_tensor_by_name('logits:0')\n",
    "    #keep_prob = loaded_graph.get_tensor_by_name('keep_prob:0')\n",
    "\n",
    "    translate_logits = sess.run(model.inference_logits, {model.input_data: [translate_sentence], model.keep_prob: 1.0})[0]\n",
    "\n",
    "print('Input')\n",
    "print('  Word Ids:      {}'.format([i for i in translate_sentence]))\n",
    "print('  English Words: {}'.format([source_int_to_vocab[i] for i in translate_sentence]))\n",
    "\n",
    "print('\\nPrediction')\n",
    "print('  Word Ids:      {}'.format([i for i in np.argmax(translate_logits, 1)]))\n",
    "print('  French Words: {}'.format([target_int_to_vocab[i] for i in np.argmax(translate_logits, 1)]))"
   ]
  },
  {
   "cell_type": "code",
   "execution_count": null,
   "metadata": {
    "collapsed": false
   },
   "outputs": [],
   "source": [
    "translate_sentence = 'he saw a old yellow truck .'\n",
    "translate_seq = sentence_to_seq(translate_sentence, source_vocab_to_int)\n",
    "\n",
    "def get_samples(checkpoint, max_length, n_samples, source):\n",
    "    model = RNN(n_samples)\n",
    "    saver = tf.train.Saver()\n",
    "    with tf.Session() as sess:\n",
    "        saver.restore(sess, checkpoint)\n",
    "\n",
    "        samples_out, probs_out = sess.run(\n",
    "            [model.sample, model.probs],\n",
    "            {model.input_data: [source]*n_samples,\n",
    "            model.keep_prob: 1.})\n",
    "\n",
    "        return samples_out, probs_out\n",
    "        \n",
    "checkpoint = tf.train.latest_checkpoint('checkpoints/dev')\n",
    "samples_out_x, probs_out_x = get_samples(checkpoint, 1, 5, translate_seq)\n",
    "print(probs_out_x)\n",
    "for sample_x in samples_out_x:\n",
    "    print('  French Words: {}'.format([target_int_to_vocab[i] for i in sample_x]))\n"
   ]
  },
  {
   "cell_type": "code",
   "execution_count": null,
   "metadata": {
    "collapsed": false
   },
   "outputs": [],
   "source": [
    "reinforce_epochs = 1\n",
    "\n",
    "train_source = source_int_text[batch_size:]\n",
    "train_target = target_int_text[batch_size:]\n",
    "\n",
    "valid_source = helper.pad_sentence_batch(source_int_text[:batch_size])\n",
    "valid_target = helper.pad_sentence_batch(target_int_text[:batch_size])\n",
    "\n",
    "loaded_graph = tf.Graph()\n",
    "with tf.Session(graph=loaded_graph) as sess:\n",
    "    # Load saved model\n",
    "    loader = tf.train.import_meta_graph(load_path + '/mle'+'.meta')\n",
    "    loader.restore(sess, load_path)\n",
    "\n",
    "    for epoch_i in range(reinforce_epochs):\n",
    "\n",
    "        for batch_i, (source_batch, target_batch) in enumerate(\n",
    "                helper.batch_data(train_source, train_target, batch_size)):\n",
    "            start_time = time.time()\n",
    "            \n",
    "            input_data = loaded_graph.get_tensor_by_name('input:0')\n",
    "            logits = loaded_graph.get_tensor_by_name('logits:0')\n",
    "            keep_prob = loaded_graph.get_tensor_by_name('keep_prob:0')\n",
    "            lr = loaded_graph.get_tensor_by_name('learning_rate:0')\n",
    "            advantage = loaded_graph.get_tensor_by_name('advantage:0')\n",
    "            targets = loaded_graph.get_tensor_by_name('targets:0')\n",
    "            sequence_length = loaded_graph.get_tensor_by_name('sequence_length:0')\n",
    "            \n",
    "            inference_logits = loaded_graph.get_tensor_by_name('logits:0')\n",
    "            cost = loaded_graph.get_tensor_by_name('optimization/cost:0')\n",
    "            train_op = loaded_graph.get_operation_by_name('optimization/train_op')\n",
    "            \n",
    "            # temp\n",
    "            #train_probs = loaded_graph.get_tensor_by_name('optimization/train_probs:0')\n",
    "\n",
    "            \n",
    "            feed_dict = {input_data: source_batch,\n",
    "                         targets: target_batch,\n",
    "                         lr: learning_rate,\n",
    "                         sequence_length: target_batch.shape[1],\n",
    "                         keep_prob: keep_probability\n",
    "                        }\n",
    "            \n",
    "            avg_reward, loss = train_reinforce(feed_dict, advantage)\n",
    "\n",
    "            print(loss)\n",
    "\n",
    "            #translate_logits = sess.run(logits, {input_data: [translate_sentence], keep_prob: 1.0})[0]"
   ]
  },
  {
   "cell_type": "markdown",
   "metadata": {
    "deletable": true,
    "editable": true
   },
   "source": [
    "## Imperfect Translation\n",
    "You might notice that some sentences translate better than others.  Since the dataset you're using only has a vocabulary of 227 English words of the thousands that you use, you're only going to see good results using these words.  Additionally, the translations in this data set were made by Google translate, so the translations themselves aren't particularly good.  (We apologize to the French speakers out there!) Thankfully, for this project, you don't need a perfect translation. However, if you want to create a better translation model, you'll need better data.\n",
    "\n",
    "You can train on the [WMT10 French-English corpus](http://www.statmt.org/wmt10/training-giga-fren.tar).  This dataset has more vocabulary and richer in topics discussed.  However, this will take you days to train, so make sure you've a GPU and the neural network is performing well on dataset we provided.  Just make sure you play with the WMT10 corpus after you've submitted this project.\n",
    "## Submitting This Project\n",
    "When submitting this project, make sure to run all the cells before saving the notebook. Save the notebook file as \"dlnd_language_translation.ipynb\" and save it as a HTML file under \"File\" -> \"Download as\". Include the \"helper.py\" and \"problem_unittests.py\" files in your submission."
   ]
  },
  {
   "cell_type": "code",
   "execution_count": null,
   "metadata": {
    "collapsed": true
   },
   "outputs": [],
   "source": []
  }
 ],
 "metadata": {
  "kernelspec": {
   "display_name": "Python 3",
   "language": "python",
   "name": "python3"
  },
  "language_info": {
   "codemirror_mode": {
    "name": "ipython",
    "version": 3
   },
   "file_extension": ".py",
   "mimetype": "text/x-python",
   "name": "python",
   "nbconvert_exporter": "python",
   "pygments_lexer": "ipython3",
   "version": "3.5.3"
  }
 },
 "nbformat": 4,
 "nbformat_minor": 0
}
